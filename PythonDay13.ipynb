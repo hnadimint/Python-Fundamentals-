{
 "cells": [
  {
   "cell_type": "code",
   "execution_count": null,
   "metadata": {},
   "outputs": [],
   "source": [
    "defined a function ------->we have given one parameter to the function :parameter passing"
   ]
  },
  {
   "cell_type": "code",
   "execution_count": 7,
   "metadata": {},
   "outputs": [],
   "source": [
    "def greet_user(username): #passing parameter\n",
    "    \"\"\"greeting a user\"\"\" #giving doc string\n",
    "    print(f\"hello good to have you in python training session {username.title()}\")"
   ]
  },
  {
   "cell_type": "code",
   "execution_count": 8,
   "metadata": {},
   "outputs": [
    {
     "name": "stdout",
     "output_type": "stream",
     "text": [
      "hello good to have you in python training session Sesha\n"
     ]
    }
   ],
   "source": [
    "greet_user('Sesha')"
   ]
  },
  {
   "cell_type": "code",
   "execution_count": 9,
   "metadata": {},
   "outputs": [
    {
     "name": "stdout",
     "output_type": "stream",
     "text": [
      "hello good to have you in python training session Nihalyugan\n"
     ]
    }
   ],
   "source": [
    "greet_user('NihalYugan')"
   ]
  },
  {
   "cell_type": "code",
   "execution_count": 10,
   "metadata": {},
   "outputs": [
    {
     "name": "stdout",
     "output_type": "stream",
     "text": [
      "hello good to have you in python training session Lakshya\n"
     ]
    }
   ],
   "source": [
    "greet_user('Lakshya')"
   ]
  },
  {
   "cell_type": "code",
   "execution_count": 11,
   "metadata": {},
   "outputs": [
    {
     "name": "stdout",
     "output_type": "stream",
     "text": [
      "hello good to have you in python training session Honeysha\n"
     ]
    }
   ],
   "source": [
    "greet_user('Honeysha')"
   ]
  },
  {
   "cell_type": "code",
   "execution_count": null,
   "metadata": {},
   "outputs": [],
   "source": [
    "Types of arguments:"
   ]
  },
  {
   "cell_type": "code",
   "execution_count": 13,
   "metadata": {},
   "outputs": [],
   "source": [
    "def describe_pet(animaltype,animalname):\n",
    "    \"\"\"to display the animal type and the petname\"\"\"\n",
    "    print(f\"I have a {animaltype}\")\n",
    "    print(f\"\\nmy {animaltype} name is {animalname}\")"
   ]
  },
  {
   "cell_type": "code",
   "execution_count": 14,
   "metadata": {},
   "outputs": [
    {
     "name": "stdout",
     "output_type": "stream",
     "text": [
      "I have a dog\n",
      "\n",
      "my dog name is dazzy\n"
     ]
    }
   ],
   "source": [
    "describe_pet('dog','dazzy')"
   ]
  },
  {
   "cell_type": "code",
   "execution_count": null,
   "metadata": {},
   "outputs": [],
   "source": [
    "def describe_pet(animaltype,animalname):\n",
    "    \"\"\"to display the animal type and the petname\"\"\"\n",
    "    print(f\"I have a {animaltype}\")\n",
    "    print(f\"\\nmy {animaltype} name is {animalname}\")"
   ]
  },
  {
   "cell_type": "code",
   "execution_count": 15,
   "metadata": {},
   "outputs": [
    {
     "name": "stdout",
     "output_type": "stream",
     "text": [
      "I have a human\n",
      "\n",
      "my human name is ranky\n"
     ]
    }
   ],
   "source": [
    "describe_pet('human','ranky')"
   ]
  },
  {
   "cell_type": "code",
   "execution_count": 16,
   "metadata": {},
   "outputs": [
    {
     "name": "stdout",
     "output_type": "stream",
     "text": [
      "I have a cat\n",
      "\n",
      "my cat name is snowbell\n"
     ]
    }
   ],
   "source": [
    "describe_pet('cat','snowbell')"
   ]
  },
  {
   "cell_type": "code",
   "execution_count": null,
   "metadata": {},
   "outputs": [],
   "source": [
    "#Positional arguments"
   ]
  },
  {
   "cell_type": "code",
   "execution_count": 18,
   "metadata": {},
   "outputs": [
    {
     "name": "stdout",
     "output_type": "stream",
     "text": [
      "I have a snowbell\n",
      "\n",
      "my snowbell name is cat\n"
     ]
    }
   ],
   "source": [
    "describe_pet(animalname ='cat',animaltype ='snowbell')"
   ]
  },
  {
   "cell_type": "code",
   "execution_count": null,
   "metadata": {},
   "outputs": [],
   "source": [
    "#Keyword arguments"
   ]
  },
  {
   "cell_type": "code",
   "execution_count": 19,
   "metadata": {},
   "outputs": [],
   "source": [
    "def describe_pet(animaltype,animalname):\n",
    "    \"\"\"to display the animal type and the petname\"\"\"\n",
    "    print(f\"I have a {animaltype}\")\n",
    "    print(f\"\\nmy {animaltype} name is {animalname}\")"
   ]
  },
  {
   "cell_type": "code",
   "execution_count": 21,
   "metadata": {},
   "outputs": [
    {
     "name": "stdout",
     "output_type": "stream",
     "text": [
      "I have a dog\n",
      "\n",
      "my dog name is rocky\n"
     ]
    }
   ],
   "source": [
    "describe_pet(animalname ='rocky',animaltype ='dog')"
   ]
  },
  {
   "cell_type": "code",
   "execution_count": 22,
   "metadata": {},
   "outputs": [
    {
     "ename": "TypeError",
     "evalue": "describe_pet() missing 1 required positional argument: 'animalname'",
     "output_type": "error",
     "traceback": [
      "\u001b[1;31m---------------------------------------------------------------------------\u001b[0m",
      "\u001b[1;31mTypeError\u001b[0m                                 Traceback (most recent call last)",
      "\u001b[1;32m<ipython-input-22-ef91f8ac3340>\u001b[0m in \u001b[0;36m<module>\u001b[1;34m\u001b[0m\n\u001b[1;32m----> 1\u001b[1;33m \u001b[0mdescribe_pet\u001b[0m\u001b[1;33m(\u001b[0m\u001b[1;34m'remo'\u001b[0m\u001b[1;33m)\u001b[0m\u001b[1;33m\u001b[0m\u001b[1;33m\u001b[0m\u001b[0m\n\u001b[0m",
      "\u001b[1;31mTypeError\u001b[0m: describe_pet() missing 1 required positional argument: 'animalname'"
     ]
    }
   ],
   "source": [
    "describe_pet('remo') #TypeError: describe_pet() missing 1 required positional argument: 'animalname'"
   ]
  },
  {
   "cell_type": "code",
   "execution_count": null,
   "metadata": {},
   "outputs": [],
   "source": [
    "When you are fixing the value keep the parameter at the end of the fun"
   ]
  },
  {
   "cell_type": "code",
   "execution_count": 23,
   "metadata": {},
   "outputs": [],
   "source": [
    "def describe_pet(animaltype,animalname):\n",
    "    \"\"\"to display the animal type and the petname\"\"\"\n",
    "    print(f\"I have a {animaltype}\")\n",
    "    print(f\"\\nmy {animaltype} name is {animalname}\")"
   ]
  },
  {
   "cell_type": "code",
   "execution_count": 24,
   "metadata": {},
   "outputs": [
    {
     "name": "stdout",
     "output_type": "stream",
     "text": [
      "I have a dog\n",
      "\n",
      "my dog name is germanshefard\n"
     ]
    }
   ],
   "source": [
    "describe_pet(animalname ='germanshefard',animaltype ='dog')"
   ]
  },
  {
   "cell_type": "code",
   "execution_count": null,
   "metadata": {},
   "outputs": [],
   "source": []
  }
 ],
 "metadata": {
  "kernelspec": {
   "display_name": "Python 3",
   "language": "python",
   "name": "python3"
  },
  "language_info": {
   "codemirror_mode": {
    "name": "ipython",
    "version": 3
   },
   "file_extension": ".py",
   "mimetype": "text/x-python",
   "name": "python",
   "nbconvert_exporter": "python",
   "pygments_lexer": "ipython3",
   "version": "3.7.6"
  }
 },
 "nbformat": 4,
 "nbformat_minor": 4
}
