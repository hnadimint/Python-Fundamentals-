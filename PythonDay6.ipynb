{
 "cells": [
  {
   "cell_type": "code",
   "execution_count": null,
   "metadata": {},
   "outputs": [],
   "source": [
    "loops execution in python"
   ]
  },
  {
   "cell_type": "code",
   "execution_count": 1,
   "metadata": {},
   "outputs": [
    {
     "name": "stdout",
     "output_type": "stream",
     "text": [
      "['hari', 'ram', 'gangadhar', 'rami', 'divakar', 'veeresh', 'murali', 'munna', 'maheshwara', 'surendra']\n"
     ]
    }
   ],
   "source": [
    "students=[\"hari\",\"ram\",\"gangadhar\",\"rami\",\"divakar\",\"veeresh\",\"murali\",\"munna\",\"maheshwara\",\"surendra\"]\n",
    "print(students)"
   ]
  },
  {
   "cell_type": "code",
   "execution_count": 3,
   "metadata": {},
   "outputs": [
    {
     "name": "stdout",
     "output_type": "stream",
     "text": [
      "Veeresh\n"
     ]
    }
   ],
   "source": [
    "print(students[5].title())"
   ]
  },
  {
   "cell_type": "code",
   "execution_count": 4,
   "metadata": {},
   "outputs": [
    {
     "name": "stdout",
     "output_type": "stream",
     "text": [
      "hari\n",
      "ram\n",
      "gangadhar\n",
      "rami\n",
      "divakar\n",
      "veeresh\n",
      "murali\n",
      "munna\n",
      "maheshwara\n",
      "surendra\n"
     ]
    }
   ],
   "source": [
    "for student in students:\n",
    "    print(student)"
   ]
  },
  {
   "cell_type": "code",
   "execution_count": null,
   "metadata": {},
   "outputs": [],
   "source": [
    "General syntax for loop:\n",
    "    for tempvar in mainvar:\n",
    "        print(tempvar)"
   ]
  },
  {
   "cell_type": "code",
   "execution_count": 5,
   "metadata": {},
   "outputs": [
    {
     "name": "stdout",
     "output_type": "stream",
     "text": [
      "hari\n",
      "ram\n",
      "gangadhar\n",
      "rami\n",
      "divakar\n",
      "veeresh\n",
      "murali\n",
      "munna\n",
      "maheshwara\n",
      "surendra\n"
     ]
    }
   ],
   "source": [
    "for x in students:\n",
    "    print(x)"
   ]
  },
  {
   "cell_type": "code",
   "execution_count": 6,
   "metadata": {},
   "outputs": [
    {
     "ename": "IndentationError",
     "evalue": "expected an indented block (<ipython-input-6-e16c88338b60>, line 2)",
     "output_type": "error",
     "traceback": [
      "\u001b[1;36m  File \u001b[1;32m\"<ipython-input-6-e16c88338b60>\"\u001b[1;36m, line \u001b[1;32m2\u001b[0m\n\u001b[1;33m    print(x)\u001b[0m\n\u001b[1;37m        ^\u001b[0m\n\u001b[1;31mIndentationError\u001b[0m\u001b[1;31m:\u001b[0m expected an indented block\n"
     ]
    }
   ],
   "source": [
    "for x in students:\n",
    "print(x)    #IndentationError will occur bcz we are specifying proper print command for temp variable"
   ]
  },
  {
   "cell_type": "markdown",
   "metadata": {},
   "source": [
    "# request to sending appreciation message to every student:\n",
    "    "
   ]
  },
  {
   "cell_type": "markdown",
   "metadata": {},
   "source": [
    "for z in students:\n",
    "    print(f\"appreciate the work,keep up the same {z}*\")"
   ]
  },
  {
   "cell_type": "code",
   "execution_count": 21,
   "metadata": {},
   "outputs": [
    {
     "name": "stdout",
     "output_type": "stream",
     "text": [
      "appreciate the work,keep up the same hari\n",
      "appreciate the work,keep up the same ram\n",
      "appreciate the work,keep up the same gangadhar\n",
      "appreciate the work,keep up the same rami\n",
      "appreciate the work,keep up the same divakar\n",
      "appreciate the work,keep up the same veeresh\n",
      "appreciate the work,keep up the same murali\n",
      "appreciate the work,keep up the same munna\n",
      "appreciate the work,keep up the same maheshwara\n",
      "appreciate the work,keep up the same surendra\n"
     ]
    }
   ],
   "source": [
    "for z in students:\n",
    "    print(f\"appreciate the work,keep up the same {z}\")"
   ]
  },
  {
   "cell_type": "code",
   "execution_count": 22,
   "metadata": {},
   "outputs": [
    {
     "name": "stdout",
     "output_type": "stream",
     "text": [
      "appreciate the work, keep up the same hari\n",
      "appreciate the work, keep up the same ram\n",
      "appreciate the work, keep up the same gangadhar\n",
      "appreciate the work, keep up the same rami\n",
      "appreciate the work, keep up the same divakar\n",
      "appreciate the work, keep up the same veeresh\n",
      "appreciate the work, keep up the same murali\n",
      "appreciate the work, keep up the same munna\n",
      "appreciate the work, keep up the same maheshwara\n",
      "appreciate the work, keep up the same surendra\n"
     ]
    }
   ],
   "source": [
    "for z in students:\n",
    "    print(f\"appreciate the work, keep up the same {z}\")"
   ]
  },
  {
   "cell_type": "code",
   "execution_count": 25,
   "metadata": {},
   "outputs": [
    {
     "name": "stdout",
     "output_type": "stream",
     "text": [
      "appreciate your work, keep up the same hari\n",
      "appreciate your work, keep up the same ram\n",
      "appreciate your work, keep up the same gangadhar\n",
      "appreciate your work, keep up the same rami\n",
      "appreciate your work, keep up the same divakar\n",
      "appreciate your work, keep up the same veeresh\n",
      "appreciate your work, keep up the same murali\n",
      "appreciate your work, keep up the same munna\n",
      "appreciate your work, keep up the same maheshwara\n",
      "appreciate your work, keep up the same surendra\n"
     ]
    }
   ],
   "source": [
    "for z in students:\n",
    "    print(f\"appreciate your work, keep up the same {z}\")"
   ]
  },
  {
   "cell_type": "code",
   "execution_count": 28,
   "metadata": {},
   "outputs": [
    {
     "name": "stdout",
     "output_type": "stream",
     "text": [
      "appreciate your work, keep up the same hari\n",
      "appreciate your work, keep up the same ram\n",
      "appreciate your work, keep up the same gangadhar\n",
      "appreciate your work, keep up the same rami\n",
      "appreciate your work, keep up the same divakar\n",
      "appreciate your work, keep up the same veeresh\n",
      "appreciate your work, keep up the same murali\n",
      "appreciate your work, keep up the same munna\n",
      "appreciate your work, keep up the same maheshwara\n",
      "appreciate your work, keep up the same surendra\n"
     ]
    }
   ],
   "source": [
    "for abc in students:\n",
    "    print(f\"appreciate your work, keep up the same {abc}\")"
   ]
  },
  {
   "cell_type": "code",
   "execution_count": 29,
   "metadata": {},
   "outputs": [
    {
     "ename": "SyntaxError",
     "evalue": "EOL while scanning string literal (<ipython-input-29-d0bd7992ec91>, line 3)",
     "output_type": "error",
     "traceback": [
      "\u001b[1;36m  File \u001b[1;32m\"<ipython-input-29-d0bd7992ec91>\"\u001b[1;36m, line \u001b[1;32m3\u001b[0m\n\u001b[1;33m    print(f\"looking for all your practice files of today as well {students}.\\n)\u001b[0m\n\u001b[1;37m                                                                               ^\u001b[0m\n\u001b[1;31mSyntaxError\u001b[0m\u001b[1;31m:\u001b[0m EOL while scanning string literal\n"
     ]
    }
   ],
   "source": [
    "for student in students:\n",
    "    print(f\"appriciate your work, keep up the same {student}\")\n",
    "    print(f\"looking for all your practice files of today as well {students}.\\n)"
   ]
  },
  {
   "cell_type": "code",
   "execution_count": 30,
   "metadata": {},
   "outputs": [
    {
     "name": "stdout",
     "output_type": "stream",
     "text": [
      "appriciate your work, keep up the same hari\n",
      "looking for all your practice files of today as well ['hari', 'ram', 'gangadhar', 'rami', 'divakar', 'veeresh', 'murali', 'munna', 'maheshwara', 'surendra'].\n",
      "\n",
      "appriciate your work, keep up the same ram\n",
      "looking for all your practice files of today as well ['hari', 'ram', 'gangadhar', 'rami', 'divakar', 'veeresh', 'murali', 'munna', 'maheshwara', 'surendra'].\n",
      "\n",
      "appriciate your work, keep up the same gangadhar\n",
      "looking for all your practice files of today as well ['hari', 'ram', 'gangadhar', 'rami', 'divakar', 'veeresh', 'murali', 'munna', 'maheshwara', 'surendra'].\n",
      "\n",
      "appriciate your work, keep up the same rami\n",
      "looking for all your practice files of today as well ['hari', 'ram', 'gangadhar', 'rami', 'divakar', 'veeresh', 'murali', 'munna', 'maheshwara', 'surendra'].\n",
      "\n",
      "appriciate your work, keep up the same divakar\n",
      "looking for all your practice files of today as well ['hari', 'ram', 'gangadhar', 'rami', 'divakar', 'veeresh', 'murali', 'munna', 'maheshwara', 'surendra'].\n",
      "\n",
      "appriciate your work, keep up the same veeresh\n",
      "looking for all your practice files of today as well ['hari', 'ram', 'gangadhar', 'rami', 'divakar', 'veeresh', 'murali', 'munna', 'maheshwara', 'surendra'].\n",
      "\n",
      "appriciate your work, keep up the same murali\n",
      "looking for all your practice files of today as well ['hari', 'ram', 'gangadhar', 'rami', 'divakar', 'veeresh', 'murali', 'munna', 'maheshwara', 'surendra'].\n",
      "\n",
      "appriciate your work, keep up the same munna\n",
      "looking for all your practice files of today as well ['hari', 'ram', 'gangadhar', 'rami', 'divakar', 'veeresh', 'murali', 'munna', 'maheshwara', 'surendra'].\n",
      "\n",
      "appriciate your work, keep up the same maheshwara\n",
      "looking for all your practice files of today as well ['hari', 'ram', 'gangadhar', 'rami', 'divakar', 'veeresh', 'murali', 'munna', 'maheshwara', 'surendra'].\n",
      "\n",
      "appriciate your work, keep up the same surendra\n",
      "looking for all your practice files of today as well ['hari', 'ram', 'gangadhar', 'rami', 'divakar', 'veeresh', 'murali', 'munna', 'maheshwara', 'surendra'].\n",
      "\n"
     ]
    }
   ],
   "source": [
    "for student in students:\n",
    "    print(f\"appriciate your work, keep up the same {student}\")\n",
    "    print(f\"looking for all your practice files of today as well {students}.\\n\")"
   ]
  },
  {
   "cell_type": "code",
   "execution_count": 31,
   "metadata": {},
   "outputs": [
    {
     "name": "stdout",
     "output_type": "stream",
     "text": [
      "appriciate your work, keep up the same hari\n",
      "looking for all your practice files of today as well ['hari', 'ram', 'gangadhar', 'rami', 'divakar', 'veeresh', 'murali', 'munna', 'maheshwara', 'surendra'].\n",
      "\n",
      "great effort all ['hari', 'ram', 'gangadhar', 'rami', 'divakar', 'veeresh', 'murali', 'munna', 'maheshwara', 'surendra'].\n",
      "\n",
      "appriciate your work, keep up the same ram\n",
      "looking for all your practice files of today as well ['hari', 'ram', 'gangadhar', 'rami', 'divakar', 'veeresh', 'murali', 'munna', 'maheshwara', 'surendra'].\n",
      "\n",
      "great effort all ['hari', 'ram', 'gangadhar', 'rami', 'divakar', 'veeresh', 'murali', 'munna', 'maheshwara', 'surendra'].\n",
      "\n",
      "appriciate your work, keep up the same gangadhar\n",
      "looking for all your practice files of today as well ['hari', 'ram', 'gangadhar', 'rami', 'divakar', 'veeresh', 'murali', 'munna', 'maheshwara', 'surendra'].\n",
      "\n",
      "great effort all ['hari', 'ram', 'gangadhar', 'rami', 'divakar', 'veeresh', 'murali', 'munna', 'maheshwara', 'surendra'].\n",
      "\n",
      "appriciate your work, keep up the same rami\n",
      "looking for all your practice files of today as well ['hari', 'ram', 'gangadhar', 'rami', 'divakar', 'veeresh', 'murali', 'munna', 'maheshwara', 'surendra'].\n",
      "\n",
      "great effort all ['hari', 'ram', 'gangadhar', 'rami', 'divakar', 'veeresh', 'murali', 'munna', 'maheshwara', 'surendra'].\n",
      "\n",
      "appriciate your work, keep up the same divakar\n",
      "looking for all your practice files of today as well ['hari', 'ram', 'gangadhar', 'rami', 'divakar', 'veeresh', 'murali', 'munna', 'maheshwara', 'surendra'].\n",
      "\n",
      "great effort all ['hari', 'ram', 'gangadhar', 'rami', 'divakar', 'veeresh', 'murali', 'munna', 'maheshwara', 'surendra'].\n",
      "\n",
      "appriciate your work, keep up the same veeresh\n",
      "looking for all your practice files of today as well ['hari', 'ram', 'gangadhar', 'rami', 'divakar', 'veeresh', 'murali', 'munna', 'maheshwara', 'surendra'].\n",
      "\n",
      "great effort all ['hari', 'ram', 'gangadhar', 'rami', 'divakar', 'veeresh', 'murali', 'munna', 'maheshwara', 'surendra'].\n",
      "\n",
      "appriciate your work, keep up the same murali\n",
      "looking for all your practice files of today as well ['hari', 'ram', 'gangadhar', 'rami', 'divakar', 'veeresh', 'murali', 'munna', 'maheshwara', 'surendra'].\n",
      "\n",
      "great effort all ['hari', 'ram', 'gangadhar', 'rami', 'divakar', 'veeresh', 'murali', 'munna', 'maheshwara', 'surendra'].\n",
      "\n",
      "appriciate your work, keep up the same munna\n",
      "looking for all your practice files of today as well ['hari', 'ram', 'gangadhar', 'rami', 'divakar', 'veeresh', 'murali', 'munna', 'maheshwara', 'surendra'].\n",
      "\n",
      "great effort all ['hari', 'ram', 'gangadhar', 'rami', 'divakar', 'veeresh', 'murali', 'munna', 'maheshwara', 'surendra'].\n",
      "\n",
      "appriciate your work, keep up the same maheshwara\n",
      "looking for all your practice files of today as well ['hari', 'ram', 'gangadhar', 'rami', 'divakar', 'veeresh', 'murali', 'munna', 'maheshwara', 'surendra'].\n",
      "\n",
      "great effort all ['hari', 'ram', 'gangadhar', 'rami', 'divakar', 'veeresh', 'murali', 'munna', 'maheshwara', 'surendra'].\n",
      "\n",
      "appriciate your work, keep up the same surendra\n",
      "looking for all your practice files of today as well ['hari', 'ram', 'gangadhar', 'rami', 'divakar', 'veeresh', 'murali', 'munna', 'maheshwara', 'surendra'].\n",
      "\n",
      "great effort all ['hari', 'ram', 'gangadhar', 'rami', 'divakar', 'veeresh', 'murali', 'munna', 'maheshwara', 'surendra'].\n",
      "\n"
     ]
    }
   ],
   "source": [
    "for student in students:\n",
    "    print(f\"appriciate your work, keep up the same {student}\")\n",
    "    print(f\"looking for all your practice files of today as well {students}.\\n\")\n",
    "    print(f\"great effort all {students}.\\n\")"
   ]
  },
  {
   "cell_type": "code",
   "execution_count": 32,
   "metadata": {},
   "outputs": [
    {
     "name": "stdout",
     "output_type": "stream",
     "text": [
      "appriciate your work, keep up the same hari\n",
      "looking for all your practice files of today as well ['hari', 'ram', 'gangadhar', 'rami', 'divakar', 'veeresh', 'murali', 'munna', 'maheshwara', 'surendra'].\n",
      "\n",
      "Thank you all of you for showing interest learning python!\n",
      "appriciate your work, keep up the same ram\n",
      "looking for all your practice files of today as well ['hari', 'ram', 'gangadhar', 'rami', 'divakar', 'veeresh', 'murali', 'munna', 'maheshwara', 'surendra'].\n",
      "\n",
      "Thank you all of you for showing interest learning python!\n",
      "appriciate your work, keep up the same gangadhar\n",
      "looking for all your practice files of today as well ['hari', 'ram', 'gangadhar', 'rami', 'divakar', 'veeresh', 'murali', 'munna', 'maheshwara', 'surendra'].\n",
      "\n",
      "Thank you all of you for showing interest learning python!\n",
      "appriciate your work, keep up the same rami\n",
      "looking for all your practice files of today as well ['hari', 'ram', 'gangadhar', 'rami', 'divakar', 'veeresh', 'murali', 'munna', 'maheshwara', 'surendra'].\n",
      "\n",
      "Thank you all of you for showing interest learning python!\n",
      "appriciate your work, keep up the same divakar\n",
      "looking for all your practice files of today as well ['hari', 'ram', 'gangadhar', 'rami', 'divakar', 'veeresh', 'murali', 'munna', 'maheshwara', 'surendra'].\n",
      "\n",
      "Thank you all of you for showing interest learning python!\n",
      "appriciate your work, keep up the same veeresh\n",
      "looking for all your practice files of today as well ['hari', 'ram', 'gangadhar', 'rami', 'divakar', 'veeresh', 'murali', 'munna', 'maheshwara', 'surendra'].\n",
      "\n",
      "Thank you all of you for showing interest learning python!\n",
      "appriciate your work, keep up the same murali\n",
      "looking for all your practice files of today as well ['hari', 'ram', 'gangadhar', 'rami', 'divakar', 'veeresh', 'murali', 'munna', 'maheshwara', 'surendra'].\n",
      "\n",
      "Thank you all of you for showing interest learning python!\n",
      "appriciate your work, keep up the same munna\n",
      "looking for all your practice files of today as well ['hari', 'ram', 'gangadhar', 'rami', 'divakar', 'veeresh', 'murali', 'munna', 'maheshwara', 'surendra'].\n",
      "\n",
      "Thank you all of you for showing interest learning python!\n",
      "appriciate your work, keep up the same maheshwara\n",
      "looking for all your practice files of today as well ['hari', 'ram', 'gangadhar', 'rami', 'divakar', 'veeresh', 'murali', 'munna', 'maheshwara', 'surendra'].\n",
      "\n",
      "Thank you all of you for showing interest learning python!\n",
      "appriciate your work, keep up the same surendra\n",
      "looking for all your practice files of today as well ['hari', 'ram', 'gangadhar', 'rami', 'divakar', 'veeresh', 'murali', 'munna', 'maheshwara', 'surendra'].\n",
      "\n",
      "Thank you all of you for showing interest learning python!\n"
     ]
    }
   ],
   "source": [
    "for student in students:\n",
    "    print(f\"appriciate your work, keep up the same {student}\")\n",
    "    print(f\"looking for all your practice files of today as well {students}.\\n\")\n",
    "    print(f\"Thank you all of you for showing interest learning python!\" )"
   ]
  },
  {
   "cell_type": "code",
   "execution_count": null,
   "metadata": {},
   "outputs": [],
   "source": [
    "#range method:\n",
    "#making numerical list with 1 to 30:\n",
    "#range(1 to 30) **last value as exclusive"
   ]
  },
  {
   "cell_type": "code",
   "execution_count": 34,
   "metadata": {},
   "outputs": [
    {
     "name": "stdout",
     "output_type": "stream",
     "text": [
      "1\n",
      "2\n",
      "3\n",
      "4\n",
      "5\n",
      "6\n",
      "7\n",
      "8\n",
      "9\n",
      "10\n",
      "11\n",
      "12\n",
      "13\n",
      "14\n",
      "15\n",
      "16\n",
      "17\n",
      "18\n",
      "19\n",
      "20\n",
      "21\n",
      "22\n",
      "23\n",
      "24\n",
      "25\n",
      "26\n",
      "27\n",
      "28\n",
      "29\n"
     ]
    }
   ],
   "source": [
    "for value in range(1,30):\n",
    "    print(value)"
   ]
  },
  {
   "cell_type": "code",
   "execution_count": 37,
   "metadata": {},
   "outputs": [
    {
     "name": "stdout",
     "output_type": "stream",
     "text": [
      "[1, 2, 3, 4, 5, 6, 7, 8, 9, 10]\n"
     ]
    }
   ],
   "source": [
    "numbers= list(range(1,11))\n",
    "print(numbers)"
   ]
  },
  {
   "cell_type": "code",
   "execution_count": null,
   "metadata": {},
   "outputs": [],
   "source": [
    "#print only even numbers"
   ]
  },
  {
   "cell_type": "code",
   "execution_count": 39,
   "metadata": {},
   "outputs": [
    {
     "name": "stdout",
     "output_type": "stream",
     "text": [
      "[2, 4, 6, 8, 10, 12, 14, 16, 18, 20, 22, 24, 26, 28]\n"
     ]
    }
   ],
   "source": [
    "even_num = list(range(2,30,2))\n",
    "print(even_num)"
   ]
  },
  {
   "cell_type": "code",
   "execution_count": null,
   "metadata": {},
   "outputs": [],
   "source": [
    "#print only odd numbers"
   ]
  },
  {
   "cell_type": "code",
   "execution_count": 42,
   "metadata": {},
   "outputs": [
    {
     "name": "stdout",
     "output_type": "stream",
     "text": [
      "[1, 3, 5, 7, 9, 11, 13, 15, 17, 19, 21, 23, 25, 27, 29]\n"
     ]
    }
   ],
   "source": [
    "odd_num = list(range(1,30,2))\n",
    "print(odd_num)"
   ]
  },
  {
   "cell_type": "code",
   "execution_count": null,
   "metadata": {},
   "outputs": [],
   "source": []
  }
 ],
 "metadata": {
  "kernelspec": {
   "display_name": "Python 3",
   "language": "python",
   "name": "python3"
  },
  "language_info": {
   "codemirror_mode": {
    "name": "ipython",
    "version": 3
   },
   "file_extension": ".py",
   "mimetype": "text/x-python",
   "name": "python",
   "nbconvert_exporter": "python",
   "pygments_lexer": "ipython3",
   "version": "3.7.6"
  }
 },
 "nbformat": 4,
 "nbformat_minor": 4
}
